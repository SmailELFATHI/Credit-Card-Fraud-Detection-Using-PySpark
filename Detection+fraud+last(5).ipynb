{
 "cells": [
  {
   "cell_type": "code",
   "execution_count": 1,
   "metadata": {
    "collapsed": false
   },
   "outputs": [],
   "source": [
    "#La librairie Pandas fournit deux structures de données fondamentales, la \"Series\" et le \"DataFrame\". On peut voir ces structures comme une généralisation des tableaux et des matrices de Numpy. La différence fondamentale entre ces structures et les versions de Numpy est que les objets Pandas possèdent des indices explicites. Là où on ne pouvait se référer à un élément d'un tableau Numpy que par sa position dans le tableau, chaque élément d'une Series ou d'un DataFrame peut avoir un indice explicitement désigné par l'utilisateur.\n",
    "import pandas as pd\n",
    "#import time\n",
    "#import os\n",
    "#import csv\n",
    "from numpy import array\n",
    "import numpy as np\n",
    "#use findSpark package to make a Spark Context available in your code.\n",
    "import findspark\n",
    "findspark.init()\n",
    "\n",
    "from pyspark.sql import SQLContext \n",
    "from pyspark import SparkContext\n",
    "sqlContext = SQLContext(sc)\n",
    "\n",
    "from pyspark import SparkConf\n",
    "conf = SparkConf()\n"
   ]
  },
  {
   "cell_type": "code",
   "execution_count": 2,
   "metadata": {
    "collapsed": false
   },
   "outputs": [
    {
     "data": {
      "text/plain": [
       "DataFrame[_c0: int, recordnum: int, cardnum: bigint, date: timestamp, merchnum: string, merch.description: string, merch.state: string, merch.zip: string, transtype: string, amount: double, fraud: string, card_amount_to_avg_3: double, card_amount_to_max_3: double, card_amount_to_median_3: double, card_amount_to_total_3: double, merchant_amount_to_avg_3: double, merchant_amount_to_max_3: double, merchant_amount_to_median_3: double, merchant_amount_to_total_3: double, card_amount_to_avg_7: double, card_amount_to_max_7: double, card_amount_to_median_7: double, card_amount_to_total_7: double, merchant_amount_to_avg_7: double, merchant_amount_to_max_7: double, merchant_amount_to_median_7: double, merchant_amount_to_total_7: double, card_amount_to_avg_14: double, card_amount_to_max_14: double, card_amount_to_median_14: double, card_amount_to_total_14: double, merchant_amount_to_avg_14: double, merchant_amount_to_max_14: double, merchant_amount_to_median_14: double, merchant_amount_to_total_14: double, card_amount_to_avg_28: double, card_amount_to_max_28: double, card_amount_to_median_28: double, card_amount_to_total_28: double, merchant_amount_to_avg_28: double, merchant_amount_to_max_28: double, merchant_amount_to_median_28: double, merchant_amount_to_total_28: double, zip_with_merchnum_3: int, state_with_merchnum_3: int, zip_with_merchnum_7: int, state_with_merchnum_7: int, cardnum_per_merch_3: int, cardnum_per_merch_7: int, merchnum_per_card_3: int, merchnum_per_card_7: int, zip_with_merchnum_14: int, state_with_merchnum_14: int, zip_with_merchnum_28: int, state_with_merchnum_28: int, cardnum_per_merch_14: int, cardnum_per_merch_28: int, merchnum_per_card_14: int, merchnum_per_card_28: int, merchant_frequency_3: int, merchant_frequency_7: int, merchant_frequency_14: int, merchant_frequency_28: int, card_frequency_3: int, card_frequency_7: int, card_frequency_14: int, card_frequency_28: int]"
      ]
     },
     "execution_count": 2,
     "metadata": {},
     "output_type": "execute_result"
    }
   ],
   "source": [
    "data = sqlContext.read.format('com.databricks.spark.csv').options(header='true', inferschema='true').load('hdfs://spark1VM:9000/data/data.csv')\n",
    "data.cache()\n"
   ]
  },
  {
   "cell_type": "code",
   "execution_count": 3,
   "metadata": {
    "collapsed": false
   },
   "outputs": [
    {
     "data": {
      "text/plain": [
       "count     88914\n",
       "unique        2\n",
       "top           0\n",
       "freq      88619\n",
       "Name: fraud, dtype: object"
      ]
     },
     "execution_count": 3,
     "metadata": {},
     "output_type": "execute_result"
    }
   ],
   "source": [
    "df=data.filter(data.date > '2010-01-28')\n",
    "df=df.select(df.columns[10:])\n",
    "df=df.fillna(0)\n",
    "df=df.na.replace(['NA'],['0'],'fraud')\n",
    "dfp=df.toPandas()\n",
    "dfp.fraud.describe()\n",
    "\n"
   ]
  },
  {
   "cell_type": "code",
   "execution_count": 4,
   "metadata": {
    "collapsed": false
   },
   "outputs": [],
   "source": [
    "featuresName=dfp.columns\n"
   ]
  },
  {
   "cell_type": "code",
   "execution_count": 5,
   "metadata": {
    "collapsed": false,
    "scrolled": true
   },
   "outputs": [],
   "source": [
    "#https://dataplatform.ibm.com/analytics/notebooks/89492fd6-a641-4819-9176-3d9381561df9/view?access_token=d80bef1a172d1d83d3721b101886337158457281774186f181a2e6a5b57f5ec7\n",
    "from pyspark.ml.feature import StringIndexer,VectorIndexer,VectorAssembler\n",
    "#from pyspark.sql.types import *\n",
    "# Index labels, adding metadata to the label column.\n",
    "# Fit on whole dataset to include all labels in index.\n",
    "\n",
    "label = StringIndexer(inputCol=df.columns[0], outputCol=\"label\").fit(df)\n",
    "df_label_features=label.transform(df)\n",
    "labelIndexer = StringIndexer(inputCol=df.columns[0], outputCol=\"indexedLabel\").fit(df_label_features)\n",
    "\n",
    "\n",
    "features = VectorAssembler(inputCols=df.columns[1:], outputCol=\"vectorAssembler_features\")\n",
    "df_label_features=features.transform(df_label_features)\n",
    "featureIndexer =VectorIndexer(inputCol=\"vectorAssembler_features\", outputCol=\"indexedFeatures\").fit(df_label_features)"
   ]
  },
  {
   "cell_type": "code",
   "execution_count": 6,
   "metadata": {
    "collapsed": false
   },
   "outputs": [],
   "source": [
    "from pyspark.ml.feature import StandardScaler\n",
    "scaler = StandardScaler(inputCol=\"vectorAssembler_features\", outputCol=\"features\",withStd=True, withMean=False)\n",
    "# Compute summary statistics by fitting the StandardScaler\n",
    "\n",
    "scalerModel = scaler.fit(df_label_features)\n",
    "\n",
    "# Normalize each feature to have unit standard deviation.\n",
    "df_label_features = scalerModel.transform(df_label_features)"
   ]
  },
  {
   "cell_type": "code",
   "execution_count": 7,
   "metadata": {
    "collapsed": false
   },
   "outputs": [],
   "source": [
    "from pyspark.ml.feature import Normalizer\n",
    "\n",
    "# Normalize each Vector using $L^1$ norm.\n",
    "normalizer = Normalizer(inputCol=\"features\", outputCol=\"gbt_features\", p=1.0)\n",
    "df_label_features = normalizer.transform(df_label_features)\n",
    "\n"
   ]
  },
  {
   "cell_type": "code",
   "execution_count": null,
   "metadata": {
    "collapsed": false
   },
   "outputs": [],
   "source": [
    "from pyspark.ml.feature import PCA\n",
    "pca = PCA(k=2, inputCol=\"features\", outputCol=\"pcaFeatures\")\n",
    "model = pca.fit(df_label_features)\n",
    "\n",
    "result = model.transform(df_label_features).select(\"pcaFeatures\",\"label\")\n",
    "\n",
    "\n",
    "#result.show(truncate=False)\n",
    "\n",
    "true_label=result.filter(result.label==1.0).select(\"pcaFeatures\").rdd.map(lambda row: [row[0][0], row[0][1]]).collect()\n",
    "true_label = np.array(true_label)\n",
    "x_red=np.array(zip(*true_label)[0])\n",
    "y_red=np.array(zip(*true_label)[1])\n",
    "\n",
    "\n",
    "false_label=result.filter(result.label==0.0).select(\"pcaFeatures\").rdd.map(lambda row: [row[0][0], row[0][1]]).collect()\n",
    "false_label = np.array(false_label)\n",
    "x_blue=np.array(zip(*false_label)[0])\n",
    "y_blue=np.array(zip(*false_label)[1])\n"
   ]
  },
  {
   "cell_type": "code",
   "execution_count": null,
   "metadata": {
    "collapsed": false
   },
   "outputs": [],
   "source": [
    "\n",
    "#plt.subplot(121)\n",
    "from matplotlib import pyplot as plt\n",
    "\n",
    "\n",
    "%matplotlib inline\n",
    "plt.rcParams[\"font.size\"] =20\n",
    "\n",
    "plt.scatter(x_blue,y_blue, label='False fraud %0.0f'%x_blue.size, c='blue')\n",
    "#plt.subplot(122)\n",
    "plt.scatter(x_red,y_red, label='True fraud %0.0f'%x_red.size, c='red',marker='^',s=200)\n",
    "#tt=true_label.toPandas().values\n",
    "#aa=np.array(tt)\n",
    "#aa\n",
    "#import matplotlib.pyplot as plt\n",
    "#plt.scatter(false_label,false_label, label='Class 2', c='blue')\n",
    "\n",
    "plt.legend(loc=\"lower right\")\n",
    "plt.gcf().set_size_inches((30,50))   \n",
    "#plt.plot([-100, 50], [-100, 50], color = 'red', linestyle = 'solid') \n",
    "\n",
    "plt.show()"
   ]
  },
  {
   "cell_type": "code",
   "execution_count": null,
   "metadata": {
    "collapsed": false
   },
   "outputs": [],
   "source": [
    "#https://matplotlib.org/gallery/event_handling/zoom_window.html\n",
    "\n",
    "figzoom, axzoom = plt.subplots()\n",
    "\n",
    "axzoom.set(xlim=(-13.5,21.5), ylim=(-20.2,0.1), autoscale_on=False,\n",
    "           title='zoom')\n",
    "\n",
    "axzoom.scatter(x_blue,y_blue, label='False fraud %0.0f'%x_blue.size, c='blue')\n",
    "axzoom.scatter(x_red,y_red, label='True fraud %0.0f'%x_red.size, c='red',marker='^',s=200)\n",
    "plt.rcParams[\"font.size\"] =20\n",
    "plt.legend(loc=\"lower right\")\n",
    "plt.gcf().set_size_inches((30,50))   \n",
    "plt.show()"
   ]
  },
  {
   "cell_type": "code",
   "execution_count": null,
   "metadata": {
    "collapsed": false
   },
   "outputs": [],
   "source": [
    "\n",
    "RANDOM_SEED = 13579\n",
    "TRAINING_DATA_RATIO = 0.77\n",
    "splits = [TRAINING_DATA_RATIO, 1.0 - TRAINING_DATA_RATIO]\n",
    "training_data, test_data = df_label_features.randomSplit(splits, RANDOM_SEED)\n",
    "\n"
   ]
  },
  {
   "cell_type": "code",
   "execution_count": null,
   "metadata": {
    "collapsed": false
   },
   "outputs": [],
   "source": [
    "training_data.cache()\n",
    "nombre_training=training_data.count()\n",
    "\n",
    "print(\"Number of training set rows: %d\" % nombre_training)\n",
    "nombre_fraude_in_training=training_data.filter(training_data.fraud==1).count()\n",
    "print(\"Number of fraud in training: %d\" % nombre_fraude_in_training)\n",
    "print(\"Taux  fraud in test: %.2f \" % ((float(nombre_fraude_in_training)/nombre_training)*100))\n",
    "\n",
    "nombre_test=test_data.count()\n",
    "print(\"Number of test set rows: %d\" % nombre_test)\n",
    "nombre_fraude_in_test=test_data.filter(test_data.fraud==1).count()\n",
    "print(\"Number of fraud  in test: %d\" % nombre_fraude_in_test)\n",
    "print(\"Taux  fraud in test: %.2f \" % ((float(nombre_fraude_in_test)/nombre_test)*100))\n"
   ]
  },
  {
   "cell_type": "code",
   "execution_count": null,
   "metadata": {
    "collapsed": false
   },
   "outputs": [],
   "source": [
    "#https://weiminwang.blog/2016/06/09/pyspark-tutorial-building-a-random-forest-binary-classifier-on-unbalanced-dataset/\n",
    "#http://scikit-learn.org/stable/auto_examples/model_selection/plot_precision_recall.html \n",
    "from sklearn.metrics import roc_curve, auc,precision_recall_curve,average_precision_score,recall_score\n",
    "\n",
    "def resultat_curve(train_model,train_model2=None):\n",
    "    \n",
    "    \n",
    "\n",
    "    ## prepare score-label set\n",
    "  \n",
    "    if train_model2 is not None :\n",
    "        fpr = dict()\n",
    "        tpr = dict()\n",
    "        roc_auc = dict()\n",
    "        result2 = train_model2.transform(test_data)    \n",
    "        results2 = result2.select(['probability', 'label'])    \n",
    "        results_collect2 = results2.collect()\n",
    "        results_list2 = [(float(i[0][0]), 1.0-float(i[1])) for i in results_collect2]       \n",
    "        y_test2 = [i[1] for i in results_list2]\n",
    "        y_score2 = [i[0] for i in results_list2]    \n",
    "        fpr2, tpr2, _ = roc_curve(y_test2, y_score2)\n",
    "        roc_auc2 = auc(fpr2, tpr2)\n",
    "        plt.plot(fpr2, tpr2,label='Avant ROC curve (area = %0.2f)' % roc_auc2, alpha=0.5,\n",
    "                         color='g')\n",
    "    \n",
    "    fpr = dict()\n",
    "    tpr = dict()\n",
    "    roc_auc = dict()\n",
    "    result = train_model.transform(test_data)    \n",
    "    results = result.select(['probability', 'label'])    \n",
    "    results_collect = results.collect()\n",
    "    results_list = [(float(i[0][0]), 1.0-float(i[1])) for i in results_collect]       \n",
    "    y_test = [i[1] for i in results_list]\n",
    "    y_score = [i[0] for i in results_list]    \n",
    "    fpr, tpr, _ = roc_curve(y_test, y_score)\n",
    "    roc_auc = auc(fpr, tpr)\n",
    "    plt.plot(fpr, tpr,label='Apres ROC curve (area = %0.2f)' % roc_auc, alpha=0.5,\n",
    "                     color='b')\n",
    "    #AUC PR  \n",
    "    plt.plot([1, 0], [1, 0], 'k--')\n",
    "    plt.xlim([0.0, 1.0])\n",
    "    plt.ylim([0.0, 1.05])\n",
    "    plt.xlabel('False Positive Rate')\n",
    "    plt.ylabel('True Positive Rate')\n",
    "    plt.title('Receiver operating characteristic')\n",
    "    plt.legend(loc=\"lower right\")\n",
    "    plt.grid(True)\n",
    "    plt.show()\n",
    "    \n",
    "    if train_model2 is not None :\n",
    "        results_list2 = [(1.0-float(i[0][0]),float(i[1])) for i in results_collect2]       \n",
    "        y_test2 = [i[1] for i in results_list2]\n",
    "        y_score2 = [round(i[0]) for i in results_list2]\n",
    "        average_precision2 = average_precision_score(y_test2, y_score2)\n",
    "        average_recall2 = recall_score(y_test2, y_score2)  \n",
    "        precision2, recall2, _ = precision_recall_curve(y_test2, y_score2)\n",
    "        plt.plot(recall2, precision2,label='Avant AP= %0.2f'%\n",
    "          average_precision2+', AR= %0.2f'%\n",
    "          average_recall2, alpha=0.5,\n",
    "                         color='g')\n",
    "\n",
    "        \n",
    "            \n",
    "    results_list = [(1.0-float(i[0][0]),float(i[1])) for i in results_collect]       \n",
    "    y_test = [i[1] for i in results_list]\n",
    "    y_score = [round(i[0]) for i in results_list]\n",
    "    average_precision = average_precision_score(y_test, y_score)\n",
    "    average_recall = recall_score(y_test, y_score)  \n",
    "    precision, recall, _ = precision_recall_curve(y_test, y_score)\n",
    "\n",
    "  \n",
    "    #plt.subplot(212)\n",
    "    plt.plot(recall, precision,label='Apres AP=%0.2f'%\n",
    "          average_precision+', AR= %0.2f'%\n",
    "          average_recall, alpha=0.2,\n",
    "                     color='b')\n",
    "\n",
    "    plt.plot([1, 0], [0, 1], 'k--')\n",
    "    plt.ylim([0.0, 1.05])\n",
    "    plt.xlim([0.0, 1.0])\n",
    "    plt.xlabel('Recall')\n",
    "    plt.ylabel('Precision')\n",
    "    plt.title('2-class Precision-Recall curve')  \n",
    "    plt.legend(loc=\"lower right\")\n",
    "    plt.grid(True)\n",
    "    plt.show()\n"
   ]
  },
  {
   "cell_type": "code",
   "execution_count": null,
   "metadata": {
    "collapsed": false
   },
   "outputs": [],
   "source": [
    "from time import *\n",
    "from pyspark.ml.evaluation import BinaryClassificationEvaluator\n",
    "from pyspark.ml.evaluation import MulticlassClassificationEvaluator\n",
    "from pyspark.mllib.evaluation import BinaryClassificationMetrics as metric\n",
    "\n",
    "def test_comparison(train_model):\n",
    "    #train data\n",
    "    \n",
    "    start_time = time()    \n",
    "    result = train_model.transform(training_data)    \n",
    "    multiClassEvaluator=MulticlassClassificationEvaluator()  \n",
    "    train_acc= multiClassEvaluator.evaluate(result,{multiClassEvaluator.metricName: \"accuracy\"})        \n",
    "    evaluator = BinaryClassificationEvaluator()\n",
    "    train_areaUnderPR= evaluator.evaluate(result,{evaluator.metricName: \"areaUnderPR\"})\n",
    "    train_areaUnderROC= evaluator.evaluate(result,{evaluator.metricName: \"areaUnderROC\"}) \n",
    "    #https://www.linkedin.com/pulse/get-your-hands-on-pyspark-solve-kaggle-problems-majid-bahrepour-phd\n",
    "    train_tp = float(result.filter(\"prediction == 1.0 AND label==1\").count())\n",
    "    train_tn = float(result.filter(\"prediction == 0.0 AND label==0\").count())\n",
    "    train_fp = float(result.filter(\"prediction == 1.0 AND label==0\").count())\n",
    "    train_fn = float(result.filter(\"prediction == 0.0 AND label==1\").count())\n",
    "    train_percision=train_tp/(train_tp+train_fp)\n",
    "    train_recall=train_tp/(train_tp+train_fn)\n",
    "    end_time = time()\n",
    "    train_time = end_time - start_time\n",
    "\n",
    "    #Test data\n",
    "    start_time = time()\n",
    "    result = train_model.transform(test_data)\n",
    "    evaluator = BinaryClassificationEvaluator()              \n",
    "    multiClassEvaluator=MulticlassClassificationEvaluator()        \n",
    "    test_acc= multiClassEvaluator.evaluate(result,{multiClassEvaluator.metricName: \"accuracy\"})        \n",
    "    test_areaUnderPR= evaluator.evaluate(result,{evaluator.metricName: \"areaUnderPR\"})\n",
    "    test_areaUnderROC= evaluator.evaluate(result,{evaluator.metricName: \"areaUnderROC\"}) \n",
    "    test_tp = float(result.filter(\"prediction == 1.0 AND label==1\").count())\n",
    "    test_tn = float(result.filter(\"prediction == 0.0 AND label==0\").count())\n",
    "    test_fp = float(result.filter(\"prediction == 1.0 AND label==0\").count())\n",
    "    test_fn = float(result.filter(\"prediction == 0.0 AND label==1\").count())\n",
    "    test_percision=test_tp/(test_tp+test_fp)\n",
    "    test_recall=test_tp/(test_tp+test_fn)\n",
    "    end_time = time()\n",
    "    test_time = end_time - start_time\n",
    "    \n",
    "    return np.array([[\"%.3f\" % (train_acc),\"%.3f\" % (test_acc),\"%.3f\" % (train_areaUnderPR),\"%.3f\" % (test_areaUnderPR),\"%.3f\" % (train_areaUnderROC),\"%.3f\" % (test_areaUnderROC),\"%.3f\" % (train_recall),\"%.3f\" % (test_recall),train_percision,test_percision,\"%.3f seconds\" % (train_time),\"%.3f seconds\" % (test_time)]])"
   ]
  },
  {
   "cell_type": "code",
   "execution_count": null,
   "metadata": {
    "collapsed": false
   },
   "outputs": [],
   "source": [
    "from pyspark.ml.classification import  RandomForestClassifier\n",
    "start_time = time()\n",
    "\n",
    "rf = RandomForestClassifier()\n",
    "train_model_simple = rf.fit(training_data)\n",
    "end_time = time()\n",
    "model_train_time_simple = end_time - start_time\n",
    "print(\"Time to train RandomForestClassifier model : %.3f seconds\" % model_train_time_simple)\n",
    "model_train_time_simple =\"%.3f seconds\" % model_train_time_simple\n",
    "rf.explainParams()"
   ]
  },
  {
   "cell_type": "code",
   "execution_count": null,
   "metadata": {
    "collapsed": false
   },
   "outputs": [],
   "source": [
    "#https://blog.epigno.systems/2018/02/24/machine-learning-with-pyspark-feature-ranking/\n",
    "#machine-learning-with-pyspark-feature-ranking\n",
    "\n",
    "bestParams = train_model_simple.extractParamMap()\n",
    "model = pd.DataFrame(train_model_simple.featureImportances.toArray(), columns=[\"values\"])\n",
    "\n",
    "model[\"features\"] = featuresName[1:]  \n",
    "model"
   ]
  },
  {
   "cell_type": "code",
   "execution_count": null,
   "metadata": {
    "collapsed": false
   },
   "outputs": [],
   "source": [
    "\n",
    "plt.bar(range(1,len(model)+1), model[\"values\"])\n",
    "plt.title(\"Feature Ranking\")\n",
    "plt.xlabel(\"Feature Number\")\n",
    "plt.ylabel(\"Ranking\")"
   ]
  },
  {
   "cell_type": "code",
   "execution_count": null,
   "metadata": {
    "collapsed": false
   },
   "outputs": [],
   "source": [
    "print len(np.array(range(len(model)))[model[\"values\"] > 0.02])\n",
    "print len(np.array(range(len(model)))[model[\"values\"] > 0.03])\n",
    "print len(np.array(range(len(model)))[model[\"values\"] > 0.04])"
   ]
  },
  {
   "cell_type": "code",
   "execution_count": null,
   "metadata": {
    "collapsed": false
   },
   "outputs": [],
   "source": [
    "dfp.columns.values[[i+1 for i in np.array(range(len(model)))[model[\"values\"] > 0.04]]]"
   ]
  },
  {
   "cell_type": "code",
   "execution_count": null,
   "metadata": {
    "collapsed": false
   },
   "outputs": [],
   "source": [
    "model[\"values\"][np.array(range(len(model)))[model[\"values\"] > 0.04]]"
   ]
  },
  {
   "cell_type": "code",
   "execution_count": null,
   "metadata": {
    "collapsed": false,
    "scrolled": true
   },
   "outputs": [],
   "source": [
    "\n",
    "dataMesure = np.array([['Model','Time to train model','Training Accuracy','Testing Accuracy','Training (areaUnderPR)','Testing (areaUnderPR)','Training (areaUnderROC)','Testing (areaUnderROC)','Training Recall','Testing Recall','Training Percision','Testing Percision','Time to valuate training model','Time to valuate test model'],])\n",
    "\n",
    "\n",
    "row=np.append([['The simplest Random Forest']],[[model_train_time_simple]],axis=1)\n",
    "row=np.append(row,test_comparison(train_model_simple), axis=1)\n",
    "dataMesure = np.append(dataMesure,row, axis=0)\n",
    "\n",
    "pd.DataFrame(data=dataMesure[1:,1:],\n",
    "                  index=dataMesure[1:,0],\n",
    "                  columns=dataMesure[0,1:])\n"
   ]
  },
  {
   "cell_type": "code",
   "execution_count": null,
   "metadata": {
    "collapsed": false
   },
   "outputs": [],
   "source": [
    "df_label_features.groupby('label').count().toPandas()"
   ]
  },
  {
   "cell_type": "code",
   "execution_count": null,
   "metadata": {
    "collapsed": false
   },
   "outputs": [],
   "source": [
    "stratified_df_label_features = df_label_features.sampleBy('label', fractions={0: 295./88619, 1: 1.0}).cache()\n",
    "stratified_df_label_features.groupby('label').count().toPandas()\n",
    "\n"
   ]
  },
  {
   "cell_type": "code",
   "execution_count": null,
   "metadata": {
    "collapsed": false,
    "scrolled": true
   },
   "outputs": [],
   "source": [
    "\n",
    "RANDOM_SEED = 13579\n",
    "TRAINING_DATA_RATIO = 0.77\n",
    "splits = [TRAINING_DATA_RATIO, 1.0 - TRAINING_DATA_RATIO]\n",
    "training_data, test_data = stratified_df_label_features.randomSplit(splits, RANDOM_SEED)\n",
    "\n"
   ]
  },
  {
   "cell_type": "code",
   "execution_count": null,
   "metadata": {
    "collapsed": false,
    "scrolled": true
   },
   "outputs": [],
   "source": [
    "training_data.cache()\n",
    "nombre_training=training_data.count()\n",
    "\n",
    "print(\"Number of training set rows: %d\" % nombre_training)\n",
    "nombre_fraude_in_training=training_data.filter(training_data.fraud==1).count()\n",
    "print(\"Number of fraud in training: %d\" % nombre_fraude_in_training)\n",
    "print(\"Taux  fraud in test: %.2f \" % ((float(nombre_fraude_in_training)/nombre_training)*100))\n",
    "\n",
    "nombre_test=test_data.count()\n",
    "print(\"Number of test set rows: %d\" % nombre_test)\n",
    "nombre_fraude_in_test=test_data.filter(test_data.fraud==1).count()\n",
    "print(\"Number of fraud  in test: %d\" % nombre_fraude_in_test)\n",
    "print(\"Taux  fraud in test: %.2f \" % ((float(nombre_fraude_in_test)/nombre_test)*100))\n"
   ]
  },
  {
   "cell_type": "code",
   "execution_count": null,
   "metadata": {
    "collapsed": false,
    "scrolled": true
   },
   "outputs": [],
   "source": [
    "\n",
    "start_time = time()\n",
    "\n",
    "rf = RandomForestClassifier()\n",
    "train_model = rf.fit(training_data)\n",
    "end_time = time()\n",
    "model_train_time = end_time - start_time\n",
    "print(\"Time to train RandomForestClassifier model : %.3f seconds\" % model_train_time)\n",
    "model_train_time =\"%.3f seconds\" % model_train_time\n"
   ]
  },
  {
   "cell_type": "code",
   "execution_count": null,
   "metadata": {
    "collapsed": false,
    "scrolled": true
   },
   "outputs": [],
   "source": [
    "\n",
    "dataMesure = np.array([['Model','Time to train model','Training Accuracy','Testing Accuracy','Training (areaUnderPR)','Testing (areaUnderPR)','Training (areaUnderROC)','Testing (areaUnderROC)','Training Recall','Testing Recall','Training Percision','Testing Percision','Time to valuate training model','Time to valuate test model'],])\n",
    "\n",
    "\n",
    "row=np.append([['The best Random Forest']],[[model_train_time]],axis=1)\n",
    "row=np.append(row,test_comparison(train_model), axis=1)\n",
    "dataMesure = np.append(dataMesure,row, axis=0)\n",
    "\n",
    "row=np.append([['The simplest Random Forest']],[[model_train_time_simple]],axis=1)\n",
    "row=np.append(row,test_comparison(train_model_simple), axis=1)\n",
    "dataMesure = np.append(dataMesure,row, axis=0)\n",
    "\n",
    "pd.DataFrame(data=dataMesure[1:,1:],\n",
    "                  index=dataMesure[1:,0],\n",
    "                  columns=dataMesure[0,1:])\n"
   ]
  },
  {
   "cell_type": "code",
   "execution_count": null,
   "metadata": {
    "collapsed": false,
    "scrolled": true
   },
   "outputs": [],
   "source": [
    "plt.rcParams[\"font.size\"] =10\n",
    "resultat_curve(train_model,train_model_simple)"
   ]
  },
  {
   "cell_type": "raw",
   "metadata": {
    "collapsed": false,
    "scrolled": true
   },
   "source": [
    "#http://r-train.ru/binary-classification-in-spark/\n",
    "from collections import OrderedDict\n",
    "from pyspark.ml import Pipeline\n",
    "from pyspark.ml.tuning import CrossValidator, ParamGridBuilder\n",
    "\n",
    "# Range of `n_estimators` values to explore.\n",
    "n_depth = filter(lambda x: x % 2 == 0, list(range(2,32)))\n",
    " \n",
    "cv_scores = []\n",
    " \n",
    "for i in n_depth:\n",
    "    start = time()\n",
    "    rf = RandomForestClassifier(numTrees = 500,seed=12345L,impurity=\"entropy\",featureSubsetStrategy=\"auto\",minInstancesPerNode=1)\n",
    "    pipeline = Pipeline(stages=[labelIndexer, featureIndexer, rf])\n",
    "    paramGrid = ParamGridBuilder().addGrid(rf.maxDepth,[i]).build()\n",
    "    crossval = CrossValidator(estimator=pipeline,\n",
    "                          estimatorParamMaps=paramGrid,\n",
    "                          evaluator=BinaryClassificationEvaluator(metricName='areaUnderPR'),\n",
    "                          numFolds=10,seed=12345L) \n",
    "    train_model = crossval.fit(training_data)\n",
    "    \n",
    "    cv_scores.append(train_model.avgMetrics[0]*100)\n",
    "    print('Total run time is {:0.2f} sec. Current max_depth is {}'.format(time() - start, i))\n",
    "optimal_n_depth = n_depth[cv_scores.index(max(cv_scores))]\n",
    "print \"The optimal number of max depth is %d with %0.001f%%\" % (optimal_n_depth, cv_scores[optimal_n_depth])\n",
    " \n",
    "plt.plot(n_depth, cv_scores)\n",
    "plt.xlabel('Number of Estimators')\n",
    "plt.ylabel('Train Accuracy')\n",
    "plt.show()    "
   ]
  },
  {
   "cell_type": "code",
   "execution_count": 30,
   "metadata": {
    "collapsed": false,
    "scrolled": true
   },
   "outputs": [
    {
     "name": "stdout",
     "output_type": "stream",
     "text": [
      "Total run time is 179.38 sec. Current max bins is 2\n",
      "Total run time is 166.76 sec. Current max bins is 4\n",
      "Total run time is 166.72 sec. Current max bins is 6\n",
      "Total run time is 164.46 sec. Current max bins is 8\n",
      "Total run time is 169.80 sec. Current max bins is 10\n",
      "Total run time is 170.17 sec. Current max bins is 12\n",
      "Total run time is 170.00 sec. Current max bins is 14\n",
      "Total run time is 179.85 sec. Current max bins is 16\n",
      "Total run time is 174.40 sec. Current max bins is 18\n",
      "Total run time is 181.06 sec. Current max bins is 20\n",
      "Total run time is 182.74 sec. Current max bins is 22\n",
      "Total run time is 182.74 sec. Current max bins is 24\n",
      "Total run time is 188.11 sec. Current max bins is 26\n",
      "Total run time is 188.47 sec. Current max bins is 28\n",
      "Total run time is 193.25 sec. Current max bins is 30\n",
      "The optimal number of max bins is 10 with 97.8%\n"
     ]
    },
    {
     "data": {
      "image/png": "[encoded data removed]",
      "text/plain": [
       "<matplotlib.figure.Figure at 0x7f28c62b7b90>"
      ]
     },
     "metadata": {},
     "output_type": "display_data"
    }
   ],
   "source": [
    "#http://r-train.ru/binary-classification-in-spark/\n",
    "from collections import OrderedDict\n",
    "from pyspark.ml import Pipeline\n",
    "from pyspark.ml.tuning import CrossValidator, ParamGridBuilder\n",
    "\n",
    "# Range of `n_estimators` values to explore.\n",
    "n_bins = filter(lambda x: x % 2 == 0, list(range(2,32)))\n",
    " \n",
    "cv_scores = []\n",
    " \n",
    "for i in n_bins:\n",
    "    start = time()\n",
    "    rf = RandomForestClassifier(numTrees = 500,maxDepth=10,seed=12345L,impurity=\"entropy\",featureSubsetStrategy=\"auto\",minInstancesPerNode=1)\n",
    "    pipeline = Pipeline(stages=[labelIndexer, featureIndexer, rf])\n",
    "    paramGrid = ParamGridBuilder().addGrid(rf.maxBins,[i]).build()\n",
    "    crossval = CrossValidator(estimator=pipeline,\n",
    "                          estimatorParamMaps=paramGrid,\n",
    "                          evaluator=BinaryClassificationEvaluator(metricName='areaUnderPR'),\n",
    "                          numFolds=10,seed=12345L)\n",
    "    train_model = crossval.fit(training_data)    \n",
    "    cv_scores.append(train_model.avgMetrics[0]*100)\n",
    "    print('Total run time is {:0.2f} sec. Current max bins is {}'.format(time() - start, i))\n",
    "optimal_n_bins = n_bins[cv_scores.index(max(cv_scores))]\n",
    "print \"The optimal number of max bins is %d with %0.001f%%\" % (optimal_n_bins, cv_scores[optimal_n_bins])\n",
    " \n",
    "plt.plot(n_bins, cv_scores)\n",
    "plt.xlabel('Number of Estimators')\n",
    "plt.ylabel('Train Accuracy')\n",
    "plt.show()    "
   ]
  },
  {
   "cell_type": "code",
   "execution_count": 33,
   "metadata": {
    "collapsed": false,
    "scrolled": true
   },
   "outputs": [
    {
     "name": "stdout",
     "output_type": "stream",
     "text": [
      "Total run time is 102.52 sec. Current max number trees is 400\n",
      "Total run time is 124.61 sec. Current max number trees is 450\n",
      "Total run time is 139.88 sec. Current max number trees is 500\n",
      "Total run time is 151.31 sec. Current max number trees is 550\n",
      "Total run time is 162.82 sec. Current max number trees is 600\n",
      "Total run time is 175.94 sec. Current max number trees is 650\n",
      "Total run time is 188.15 sec. Current max number trees is 700\n",
      "Total run time is 188.17 sec. Current max number trees is 750\n",
      "Total run time is 198.64 sec. Current max number trees is 800\n",
      "Total run time is 205.77 sec. Current max number trees is 850\n",
      "Total run time is 215.64 sec. Current max number trees is 900\n",
      "Total run time is 227.25 sec. Current max number trees is 950\n"
     ]
    },
    {
     "ename": "IndexError",
     "evalue": "list index out of range",
     "output_type": "error",
     "traceback": [
      "\u001b[0;31m---------------------------------------------------------------------------\u001b[0m",
      "\u001b[0;31mIndexError\u001b[0m                                Traceback (most recent call last)",
      "\u001b[0;32m<ipython-input-33-bf7039cae487>\u001b[0m in \u001b[0;36m<module>\u001b[0;34m()\u001b[0m\n\u001b[1;32m     23\u001b[0m     \u001b[0;32mprint\u001b[0m\u001b[0;34m(\u001b[0m\u001b[0;34m'Total run time is {:0.2f} sec. Current max number trees is {}'\u001b[0m\u001b[0;34m.\u001b[0m\u001b[0mformat\u001b[0m\u001b[0;34m(\u001b[0m\u001b[0mtime\u001b[0m\u001b[0;34m(\u001b[0m\u001b[0;34m)\u001b[0m \u001b[0;34m-\u001b[0m \u001b[0mstart\u001b[0m\u001b[0;34m,\u001b[0m \u001b[0mi\u001b[0m\u001b[0;34m)\u001b[0m\u001b[0;34m)\u001b[0m\u001b[0;34m\u001b[0m\u001b[0m\n\u001b[1;32m     24\u001b[0m \u001b[0moptimal_n_trees\u001b[0m \u001b[0;34m=\u001b[0m \u001b[0mn_trees\u001b[0m\u001b[0;34m[\u001b[0m\u001b[0mcv_scores\u001b[0m\u001b[0;34m.\u001b[0m\u001b[0mindex\u001b[0m\u001b[0;34m(\u001b[0m\u001b[0mmax\u001b[0m\u001b[0;34m(\u001b[0m\u001b[0mcv_scores\u001b[0m\u001b[0;34m)\u001b[0m\u001b[0;34m)\u001b[0m\u001b[0;34m]\u001b[0m\u001b[0;34m\u001b[0m\u001b[0m\n\u001b[0;32m---> 25\u001b[0;31m \u001b[0;32mprint\u001b[0m \u001b[0;34m\"The optimal number of max number trees is %d with %0.001f%%\"\u001b[0m \u001b[0;34m%\u001b[0m \u001b[0;34m(\u001b[0m\u001b[0moptimal_n_trees\u001b[0m\u001b[0;34m,\u001b[0m \u001b[0mcv_scores\u001b[0m\u001b[0;34m[\u001b[0m\u001b[0moptimal_n_trees\u001b[0m\u001b[0;34m]\u001b[0m\u001b[0;34m)\u001b[0m\u001b[0;34m\u001b[0m\u001b[0m\n\u001b[0m\u001b[1;32m     26\u001b[0m \u001b[0;34m\u001b[0m\u001b[0m\n\u001b[1;32m     27\u001b[0m \u001b[0mplt\u001b[0m\u001b[0;34m.\u001b[0m\u001b[0mplot\u001b[0m\u001b[0;34m(\u001b[0m\u001b[0mn_bins\u001b[0m\u001b[0;34m,\u001b[0m \u001b[0mcv_scores\u001b[0m\u001b[0;34m)\u001b[0m\u001b[0;34m\u001b[0m\u001b[0m\n",
      "\u001b[0;31mIndexError\u001b[0m: list index out of range"
     ]
    }
   ],
   "source": [
    "#http://r-train.ru/binary-classification-in-spark/\n",
    "from collections import OrderedDict\n",
    "from pyspark.ml import Pipeline\n",
    "from pyspark.ml.tuning import CrossValidator, ParamGridBuilder\n",
    "\n",
    "# Range of `n_estimators` values to explore.\n",
    "n_trees = filter(lambda x: x % 50 == 0, list(range(400,1000)))\n",
    " \n",
    "cv_scores = []\n",
    " \n",
    "for i in n_trees:\n",
    "    start = time()\n",
    "    rf = RandomForestClassifier(maxBins=10 ,maxDepth=10,seed=12345L,impurity=\"entropy\",featureSubsetStrategy=\"auto\",minInstancesPerNode=1)\n",
    "    pipeline = Pipeline(stages=[labelIndexer, featureIndexer, rf])\n",
    "    paramGrid = ParamGridBuilder().addGrid(rf.numTrees,[i]).build()\n",
    "    crossval = CrossValidator(estimator=pipeline,\n",
    "                          estimatorParamMaps=paramGrid,\n",
    "                          evaluator=BinaryClassificationEvaluator(metricName='areaUnderPR'),\n",
    "                          numFolds=10,seed=12345L) \n",
    "    train_model = crossval.fit(training_data)\n",
    "    \n",
    "    cv_scores.append(train_model.avgMetrics[0]*100)\n",
    "    print('Total run time is {:0.2f} sec. Current max number trees is {}'.format(time() - start, i))\n",
    "optimal_n_trees = n_trees[cv_scores.index(max(cv_scores))]\n",
    "print \"The optimal number of max number trees is %d with %0.001f%%\" % (optimal_n_trees, cv_scores[optimal_n_trees])\n",
    " \n",
    "plt.plot(n_bins, cv_scores)\n",
    "plt.xlabel('Number of trees')\n",
    "plt.ylabel('Train Accuracy')\n",
    "plt.show()    "
   ]
  },
  {
   "cell_type": "code",
   "execution_count": 1,
   "metadata": {
    "collapsed": false
   },
   "outputs": [
    {
     "ename": "NameError",
     "evalue": "name 'n_trees' is not defined",
     "output_type": "error",
     "traceback": [
      "\u001b[0;31m---------------------------------------------------------------------------\u001b[0m",
      "\u001b[0;31mNameError\u001b[0m                                 Traceback (most recent call last)",
      "\u001b[0;32m<ipython-input-1-c01bf16eef39>\u001b[0m in \u001b[0;36m<module>\u001b[0;34m()\u001b[0m\n\u001b[0;32m----> 1\u001b[0;31m \u001b[0moptimal_n_trees\u001b[0m \u001b[0;34m=\u001b[0m \u001b[0mn_trees\u001b[0m\u001b[0;34m[\u001b[0m\u001b[0mcv_scores\u001b[0m\u001b[0;34m.\u001b[0m\u001b[0mindex\u001b[0m\u001b[0;34m(\u001b[0m\u001b[0mmax\u001b[0m\u001b[0;34m(\u001b[0m\u001b[0mcv_scores\u001b[0m\u001b[0;34m)\u001b[0m\u001b[0;34m)\u001b[0m\u001b[0;34m]\u001b[0m\u001b[0;34m\u001b[0m\u001b[0m\n\u001b[0m\u001b[1;32m      2\u001b[0m \u001b[0;32mprint\u001b[0m \u001b[0;34m\"The optimal number of max number trees is %d with %0.001f%%\"\u001b[0m \u001b[0;34m%\u001b[0m \u001b[0;34m(\u001b[0m\u001b[0moptimal_n_trees\u001b[0m\u001b[0;34m,\u001b[0m \u001b[0mcv_scores\u001b[0m\u001b[0;34m[\u001b[0m\u001b[0moptimal_n_trees\u001b[0m\u001b[0;34m]\u001b[0m\u001b[0;34m)\u001b[0m\u001b[0;34m\u001b[0m\u001b[0m\n\u001b[1;32m      3\u001b[0m \u001b[0;34m\u001b[0m\u001b[0m\n\u001b[1;32m      4\u001b[0m \u001b[0mplt\u001b[0m\u001b[0;34m.\u001b[0m\u001b[0mplot\u001b[0m\u001b[0;34m(\u001b[0m\u001b[0mn_bins\u001b[0m\u001b[0;34m,\u001b[0m \u001b[0mcv_scores\u001b[0m\u001b[0;34m)\u001b[0m\u001b[0;34m\u001b[0m\u001b[0m\n\u001b[1;32m      5\u001b[0m \u001b[0mplt\u001b[0m\u001b[0;34m.\u001b[0m\u001b[0mxlabel\u001b[0m\u001b[0;34m(\u001b[0m\u001b[0;34m'Number of trees'\u001b[0m\u001b[0;34m)\u001b[0m\u001b[0;34m\u001b[0m\u001b[0m\n",
      "\u001b[0;31mNameError\u001b[0m: name 'n_trees' is not defined"
     ]
    }
   ],
   "source": [
    "optimal_n_trees = n_trees[cv_scores.index(max(cv_scores))]\n",
    "print \"The optimal number of max number trees is %d with %0.001f%%\" % (optimal_n_trees, cv_scores[optimal_n_trees])\n",
    " \n",
    "plt.plot(n_bins, cv_scores)\n",
    "plt.xlabel('Number of trees')\n",
    "plt.ylabel('Train Accuracy')\n",
    "plt.show()"
   ]
  },
  {
   "cell_type": "code",
   "execution_count": 26,
   "metadata": {
    "collapsed": false
   },
   "outputs": [
    {
     "data": {
      "image/png": "[encoded data removed]",
      "text/plain": [
       "<matplotlib.figure.Figure at 0x7fcf25993390>"
      ]
     },
     "metadata": {},
     "output_type": "display_data"
    }
   ],
   "source": [
    "depth = np.array([d for d in acc_depth])\n",
    "mn = np.array([i[1][0] for i in acc_depth.items()])\n",
    "sd = np.array([i[1][1] for i in acc_depth.items()])\n",
    "\n",
    "plt.plot(depth, mn)\n",
    "plt.fill_between(depth, mn + sd, mn -sd, color='r', alpha = .2)\n",
    "plt.title('CVed accuracy of Random Forest')\n",
    "plt.xlabel('Tree depth')\n",
    "plt.ylabel(' Mean and std of accuracy')\n",
    "plt.grid();"
   ]
  },
  {
   "cell_type": "code",
   "execution_count": null,
   "metadata": {
    "collapsed": true
   },
   "outputs": [],
   "source": [
    "print pr_vector\n"
   ]
  },
  {
   "cell_type": "code",
   "execution_count": 21,
   "metadata": {
    "collapsed": false
   },
   "outputs": [
    {
     "data": {
      "image/png": "[encoded data removed]",
      "text/plain": [
       "<matplotlib.figure.Figure at 0x7f0fbace43d0>"
      ]
     },
     "metadata": {},
     "output_type": "display_data"
    }
   ],
   "source": [
    "depth = np.array([d for d in pr_depth])\n",
    "mn = np.array([i[1][0] for i in pr_depth.items()])\n",
    "sd = np.array([i[1][1] for i in pr_depth.items()])\n",
    "\n",
    "plt.plot(depth, mn)\n",
    "plt.fill_between(depth, mn + sd, mn -sd, color='r', alpha = .2)\n",
    "plt.title('CVed PR of Random Forest')\n",
    "plt.xlabel('Tree depth')\n",
    "plt.ylabel(' Mean and std of PR')\n",
    "plt.grid();"
   ]
  },
  {
   "cell_type": "code",
   "execution_count": null,
   "metadata": {
    "collapsed": true
   },
   "outputs": [],
   "source": []
  }
 ],
 "metadata": {
  "anaconda-cloud": {},
  "kernelspec": {
   "display_name": "Python [conda root]",
   "language": "python",
   "name": "conda-root-py"
  },
  "language_info": {
   "codemirror_mode": {
    "name": "ipython",
    "version": 2
   },
   "file_extension": ".py",
   "mimetype": "text/x-python",
   "name": "python",
   "nbconvert_exporter": "python",
   "pygments_lexer": "ipython2",
   "version": "2.7.12"
  }
 },
 "nbformat": 4,
 "nbformat_minor": 1
}
